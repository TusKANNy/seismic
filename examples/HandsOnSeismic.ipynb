{
 "cells": [
  {
   "cell_type": "markdown",
   "id": "95157c3a-741b-4b30-9f4f-909ce41d8143",
   "metadata": {},
   "source": [
    "# A gentle (2 minutes) how-to of Seismic.\n",
    "\n",
    "## This Jupyter notebook is a gentle overview on how to use Seismic.\n",
    "\n",
    "## For questions, feel free to open a GitHub issue."
   ]
  },
  {
   "cell_type": "code",
   "execution_count": 2,
   "id": "16e3d777",
   "metadata": {},
   "outputs": [],
   "source": [
    "%load_ext autoreload\n",
    "%autoreload 2\n",
    "\n",
    "import json\n",
    "import numpy as np\n",
    "\n",
    "from seismic import SeismicIndex"
   ]
  },
  {
   "cell_type": "code",
   "execution_count": null,
   "id": "9d8fb47d-3ae6-4ed6-a158-447bd3c1e397",
   "metadata": {},
   "outputs": [],
   "source": [
    "# if you need to install \n",
    "#!pip install ir_datasets ir_measures\n",
    "\n",
    "import ir_datasets\n",
    "import ir_measures\n",
    "\n",
    "from ir_measures import nDCG"
   ]
  },
  {
   "cell_type": "markdown",
   "id": "270c6bfb",
   "metadata": {},
   "source": [
    "# Building the index on the document collection"
   ]
  },
  {
   "cell_type": "code",
   "execution_count": 3,
   "id": "97bb4212",
   "metadata": {},
   "outputs": [
    {
     "name": "stdout",
     "output_type": "stream",
     "text": [
      "\n",
      "Building the index...\n",
      "Configuration { pruning: GlobalThreshold { n_postings: 3500, max_fraction: 1.5 }, blocking: RandomKmeans { centroid_fraction: 0.1, min_cluster_size: 2, clustering_algorithm: RandomKmeansInvertedIndexApprox { doc_cut: 15 } }, summarization: EnergyPreserving { summary_energy: 0.4 }, knn: KnnConfiguration { nknn: 0, knn_path: None }, batched_indexing: None }\n",
      "Reading the collection...\n",
      "Number of rows: 20\n",
      "Elapsed time to read the collection: 0 secs\n",
      "Distributing and pruning postings: 0 secs\n",
      "Number of posting lists: 1396\n",
      "Building summaries: 0 secs\n"
     ]
    }
   ],
   "source": [
    "json_input_file = \"./toy_dataset/documents.jsonl\"\n",
    "\n",
    "index = SeismicIndex.build(json_input_file)"
   ]
  },
  {
   "cell_type": "code",
   "execution_count": null,
   "id": "3259b8a1-ac2e-47db-ad42-9267b2bb1e73",
   "metadata": {},
   "outputs": [],
   "source": [
    "print(\"Number of documents: \", index.len)\n",
    "print(\"Avg number of non-zero components: \", index.nnz / index.len)\n",
    "print(\"Dimensionality of the vectors: \", index.dim)\n",
    "\n",
    "index.print_space_usage_byte()"
   ]
  },
  {
   "cell_type": "markdown",
   "id": "7c927bfe",
   "metadata": {},
   "source": [
    "# Load queries"
   ]
  },
  {
   "cell_type": "code",
   "execution_count": 4,
   "id": "76c26d7e",
   "metadata": {},
   "outputs": [],
   "source": [
    "queries_path = \"./toy_dataset/queries.jsonl\" # Replace with your queries!\n",
    "\n",
    "queries = []\n",
    "with open(queries_path, 'r') as f:\n",
    "    for line in f:\n",
    "        queries.append(json.loads(line))\n",
    "\n",
    "MAX_TOKEN_LEN = 30\n",
    "string_type  = f'U{MAX_TOKEN_LEN}'\n",
    "\n",
    "queries_ids = np.ascontiguousarray(np.array([q['id'] for q in queries], dtype=string_type))\n",
    "\n",
    "query_components = []\n",
    "query_values = []\n",
    "\n",
    "for query in queries:\n",
    "    vector = query['vector']\n",
    "    query_components.append(np.array(list(vector.keys()), dtype=string_type))\n",
    "    query_values.append(np.array(list(vector.values()), dtype=np.float32))"
   ]
  },
  {
   "cell_type": "markdown",
   "id": "18174d47",
   "metadata": {},
   "source": [
    "# Perform the search on the index"
   ]
  },
  {
   "cell_type": "code",
   "execution_count": null,
   "id": "832fc9fb",
   "metadata": {},
   "outputs": [],
   "source": [
    "results = index.batch_search(\n",
    "    queries_ids=queries_ids,\n",
    "    query_components=query_components,\n",
    "    query_values=query_values,\n",
    "    k=10,\n",
    "    query_cut=10,\n",
    "    heap_factor=0.7,\n",
    "    # sorted=True,\n",
    "    # n_knn=0,\n",
    ")"
   ]
  },
  {
   "cell_type": "code",
   "execution_count": null,
   "id": "ee433518-7f3c-45f3-bd72-39ca20ad683f",
   "metadata": {},
   "outputs": [],
   "source": [
    "print(results[:5])"
   ]
  },
  {
   "cell_type": "markdown",
   "id": "1b71db5c",
   "metadata": {},
   "source": [
    "# Evaluation"
   ]
  },
  {
   "cell_type": "code",
   "execution_count": null,
   "id": "cae335f1",
   "metadata": {},
   "outputs": [],
   "source": [
    "# add your ir_dataset dataset string id below, e.g., \"beir/quora/test\"\n",
    "ir_dataset_string = \"\"\n",
    "\n",
    "metric_name = \"nDCG@10\" # on BEIR/quora\n",
    "ir_measure = ir_measures.parse_measure(metric_name)\n",
    "ir_results = [ir_measures.ScoredDoc(query_id, doc_id, score) for r in results for (query_id, score, doc_id) in r]\n",
    "\n",
    "qrels = ir_datasets.load(ir_dataset_string).qrels\n",
    "ir_measures.calc_aggregate([ir_measure], qrels, ir_results)"
   ]
  }
 ],
 "metadata": {
  "kernelspec": {
   "display_name": "Python 3 (ipykernel)",
   "language": "python",
   "name": "python3"
  },
  "language_info": {
   "codemirror_mode": {
    "name": "ipython",
    "version": 3
   },
   "file_extension": ".py",
   "mimetype": "text/x-python",
   "name": "python",
   "nbconvert_exporter": "python",
   "pygments_lexer": "ipython3",
   "version": "3.10.16"
  }
 },
 "nbformat": 4,
 "nbformat_minor": 5
}
