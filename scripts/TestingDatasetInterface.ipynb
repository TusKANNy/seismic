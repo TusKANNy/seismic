{
 "cells": [
  {
   "cell_type": "code",
   "execution_count": 6,
   "id": "01aefb80-edc1-4aee-b37e-ce778e7ae505",
   "metadata": {},
   "outputs": [],
   "source": [
    "from seismic import SeismicDataset\n",
    "import os\n",
    "import json\n",
    "import numpy as np\n",
    "from tqdm import tqdm"
   ]
  },
  {
   "cell_type": "code",
   "execution_count": 16,
   "id": "ce9b8c31-a7d0-4381-97ab-412bc318190b",
   "metadata": {},
   "outputs": [],
   "source": [
    "import ir_datasets\n",
    "import ir_measures\n",
    "\n",
    "from ir_measures import nDCG"
   ]
  },
  {
   "cell_type": "code",
   "execution_count": 7,
   "id": "62bdbf84-e3d6-4970-a3dc-0f69ddc11b8a",
   "metadata": {},
   "outputs": [],
   "source": [
    "document_path = \"/data1/knn_datasets/sparse_datasets/beir/beir_spladev3_fromCarlos_CROSSCHECK-MRR-BEFORE-USE/beir/quora/docs/docs_anserini.jsonl\""
   ]
  },
  {
   "cell_type": "code",
   "execution_count": 8,
   "id": "43ac2612-1e6e-450e-927c-819dd67bdea2",
   "metadata": {},
   "outputs": [],
   "source": [
    "dataset = SeismicDataset()"
   ]
  },
  {
   "cell_type": "code",
   "execution_count": 9,
   "id": "f1d5a1b5-1f2d-4f93-b858-afa66f39e202",
   "metadata": {},
   "outputs": [
    {
     "name": "stderr",
     "output_type": "stream",
     "text": [
      "522931it [00:22, 23671.29it/s]\n"
     ]
    }
   ],
   "source": [
    "MAX_TOKEN_LEN=30\n",
    "string_type  = f'U{MAX_TOKEN_LEN}'\n",
    "\n",
    "with open(document_path, \"r\") as file:\n",
    "    for line in tqdm(file):\n",
    "        line_data = json.loads(line.strip())\n",
    "        vs = np.array([v for v in line_data[\"vector\"].values()], dtype=np.float32)\n",
    "        ks = np.array([k for k in line_data[\"vector\"].keys()], dtype=string_type)\n",
    "        dataset.add_document(line_data[\"id\"], ks, vs)\n",
    "\n",
    "       # documents.append((ks, vs))\n",
    "       # doc_ids.append(line_data[\"id\"])"
   ]
  },
  {
   "cell_type": "code",
   "execution_count": 10,
   "id": "002172a2-72f7-422d-8a29-f1a504010644",
   "metadata": {},
   "outputs": [],
   "source": [
    "from seismic import SeismicIndex"
   ]
  },
  {
   "cell_type": "code",
   "execution_count": 12,
   "id": "2370ffb8-df85-4a32-aa54-0ab8edeb67ad",
   "metadata": {},
   "outputs": [
    {
     "name": "stdout",
     "output_type": "stream",
     "text": [
      "\n",
      "Building the index...\n",
      "Configuration { pruning: GlobalThreshold { n_postings: 3500, max_fraction: 1.5 }, blocking: RandomKmeans { centroid_fraction: 0.1, min_cluster_size: 2, clustering_algorithm: RandomKmeansInvertedIndexApprox { doc_cut: 15 } }, summarization: EnergyPreserving { summary_energy: 0.4 }, knn: KnnConfiguration { nknn: 0, knn_path: None }, batched_indexing: None }\n",
      "Distributing and pruning postings: 0 secs\n",
      "Number of posting lists: 26595\n",
      "Building summaries: 3 secs\n"
     ]
    }
   ],
   "source": [
    "index = SeismicIndex.build_from_dataset(dataset)"
   ]
  },
  {
   "cell_type": "code",
   "execution_count": 13,
   "id": "d2c621f1-4407-4b03-83f5-8b33e04785b8",
   "metadata": {},
   "outputs": [],
   "source": [
    "queries_path = \"/data1/knn_datasets/sparse_datasets/beir/beir_spladev3_fromCarlos_CROSSCHECK-MRR-BEFORE-USE/beir/quora/queries/docs_anserini.jsonl\"\n",
    "\n",
    "queries = []\n",
    "with open(queries_path, 'r') as f:\n",
    "    for line in f:\n",
    "        queries.append(json.loads(line))\n",
    "\n",
    "MAX_TOKEN_LEN = 30\n",
    "string_type  = f'U{MAX_TOKEN_LEN}'\n",
    "\n",
    "queries_ids = np.ascontiguousarray(np.array([q['id'] for q in queries], dtype=string_type))\n",
    "\n",
    "query_components = []\n",
    "query_values = []\n",
    "\n",
    "for query in queries:\n",
    "    vector = query['vector']\n",
    "    query_components.append(np.array(list(vector.keys()), dtype=string_type))\n",
    "    query_values.append(np.array(list(vector.values()), dtype=np.float32))"
   ]
  },
  {
   "cell_type": "code",
   "execution_count": 14,
   "id": "5dad1ac7-5481-406d-a7fb-edb7dc08c03c",
   "metadata": {},
   "outputs": [],
   "source": [
    "results = index.batch_search(\n",
    "    queries_ids=queries_ids,\n",
    "    query_components=query_components,\n",
    "    query_values=query_values,\n",
    "    k=10,\n",
    "    query_cut=10,\n",
    "    heap_factor=0.7,\n",
    "    # sorted=True,\n",
    "    # n_knn=0,\n",
    ")"
   ]
  },
  {
   "cell_type": "code",
   "execution_count": 21,
   "id": "2780c66f-c229-4829-aab7-482a22f352ca",
   "metadata": {},
   "outputs": [
    {
     "ename": "ValueError",
     "evalue": "Unsupported measures {nDCG@10}. The following providers would support this measure:\n - pytrec_eval (pip install --upgrade pytrec-eval-terrier)\n - ranx (pip install ir-measures[ranx])",
     "output_type": "error",
     "traceback": [
      "\u001b[0;31m---------------------------------------------------------------------------\u001b[0m",
      "\u001b[0;31mValueError\u001b[0m                                Traceback (most recent call last)",
      "Cell \u001b[0;32mIn[21], line 9\u001b[0m\n\u001b[1;32m      6\u001b[0m ir_results \u001b[38;5;241m=\u001b[39m [ir_measures\u001b[38;5;241m.\u001b[39mScoredDoc(query_id, doc_id, score) \u001b[38;5;28;01mfor\u001b[39;00m r \u001b[38;5;129;01min\u001b[39;00m results \u001b[38;5;28;01mfor\u001b[39;00m (query_id, score, doc_id) \u001b[38;5;129;01min\u001b[39;00m r]\n\u001b[1;32m      8\u001b[0m qrels \u001b[38;5;241m=\u001b[39m ir_datasets\u001b[38;5;241m.\u001b[39mload(ir_dataset_string)\u001b[38;5;241m.\u001b[39mqrels\n\u001b[0;32m----> 9\u001b[0m \u001b[43mir_measures\u001b[49m\u001b[38;5;241;43m.\u001b[39;49m\u001b[43mcalc_aggregate\u001b[49m\u001b[43m(\u001b[49m\u001b[43m[\u001b[49m\u001b[43mir_measure\u001b[49m\u001b[43m]\u001b[49m\u001b[43m,\u001b[49m\u001b[43m \u001b[49m\u001b[43mqrels\u001b[49m\u001b[43m,\u001b[49m\u001b[43m \u001b[49m\u001b[43mir_results\u001b[49m\u001b[43m)\u001b[49m\n",
      "File \u001b[0;32m~/miniconda3/lib/python3.12/site-packages/ir_measures/providers/base.py:108\u001b[0m, in \u001b[0;36mProvider.calc_aggregate\u001b[0;34m(self, measures, qrels, run)\u001b[0m\n\u001b[1;32m    104\u001b[0m \u001b[38;5;28;01mdef\u001b[39;00m\u001b[38;5;250m \u001b[39m\u001b[38;5;21mcalc_aggregate\u001b[39m(\u001b[38;5;28mself\u001b[39m, measures: Iterable[Measure], qrels: TYPE_QREL, run: TYPE_RUN) \u001b[38;5;241m-\u001b[39m\u001b[38;5;241m>\u001b[39m Dict[Measure, Union[\u001b[38;5;28mfloat\u001b[39m, \u001b[38;5;28mint\u001b[39m]]:\n\u001b[1;32m    105\u001b[0m \u001b[38;5;250m    \u001b[39m\u001b[38;5;124;03m\"\"\"\u001b[39;00m\n\u001b[1;32m    106\u001b[0m \u001b[38;5;124;03m    Returns aggregated measure values for these measures, qrels, and run.\u001b[39;00m\n\u001b[1;32m    107\u001b[0m \u001b[38;5;124;03m    \"\"\"\u001b[39;00m\n\u001b[0;32m--> 108\u001b[0m     \u001b[38;5;28;01mreturn\u001b[39;00m \u001b[38;5;28;43mself\u001b[39;49m\u001b[38;5;241;43m.\u001b[39;49m\u001b[43mevaluator\u001b[49m\u001b[43m(\u001b[49m\u001b[43mmeasures\u001b[49m\u001b[43m,\u001b[49m\u001b[43m \u001b[49m\u001b[43mqrels\u001b[49m\u001b[43m)\u001b[49m\u001b[38;5;241m.\u001b[39mcalc_aggregate(run)\n",
      "File \u001b[0;32m~/miniconda3/lib/python3.12/site-packages/ir_measures/providers/base.py:80\u001b[0m, in \u001b[0;36mProvider.evaluator\u001b[0;34m(self, measures, qrels)\u001b[0m\n\u001b[1;32m     75\u001b[0m \u001b[38;5;250m\u001b[39m\u001b[38;5;124;03m\"\"\"\u001b[39;00m\n\u001b[1;32m     76\u001b[0m \u001b[38;5;124;03mReturns an :class:`~ir_measures.providers.Evaluator` for these measures and qrels, which\u001b[39;00m\n\u001b[1;32m     77\u001b[0m \u001b[38;5;124;03mcan efficiently process multiple runs.\u001b[39;00m\n\u001b[1;32m     78\u001b[0m \u001b[38;5;124;03m\"\"\"\u001b[39;00m\n\u001b[1;32m     79\u001b[0m \u001b[38;5;28mself\u001b[39m\u001b[38;5;241m.\u001b[39m_check_available()\n\u001b[0;32m---> 80\u001b[0m \u001b[38;5;28;01mreturn\u001b[39;00m \u001b[38;5;28;43mself\u001b[39;49m\u001b[38;5;241;43m.\u001b[39;49m\u001b[43m_evaluator\u001b[49m\u001b[43m(\u001b[49m\u001b[43mmeasures\u001b[49m\u001b[43m,\u001b[49m\u001b[43m \u001b[49m\u001b[43mqrels\u001b[49m\u001b[43m)\u001b[49m\n",
      "File \u001b[0;32m~/miniconda3/lib/python3.12/site-packages/ir_measures/providers/fallback_provider.py:41\u001b[0m, in \u001b[0;36mFallbackProvider._evaluator\u001b[0;34m(self, measures, qrels)\u001b[0m\n\u001b[1;32m     39\u001b[0m             \u001b[38;5;28;01melse\u001b[39;00m:\n\u001b[1;32m     40\u001b[0m                 provider_message \u001b[38;5;241m+\u001b[39m\u001b[38;5;241m=\u001b[39m \u001b[38;5;124mf\u001b[39m\u001b[38;5;124m'\u001b[39m\u001b[38;5;130;01m\\n\u001b[39;00m\u001b[38;5;124m - \u001b[39m\u001b[38;5;132;01m{\u001b[39;00mp\u001b[38;5;241m.\u001b[39mNAME\u001b[38;5;132;01m}\u001b[39;00m\u001b[38;5;124m'\u001b[39m\n\u001b[0;32m---> 41\u001b[0m     \u001b[38;5;28;01mraise\u001b[39;00m \u001b[38;5;167;01mValueError\u001b[39;00m(\u001b[38;5;124mf\u001b[39m\u001b[38;5;124m'\u001b[39m\u001b[38;5;124mUnsupported measures \u001b[39m\u001b[38;5;132;01m{\u001b[39;00mmeasures\u001b[38;5;132;01m}\u001b[39;00m\u001b[38;5;124m.\u001b[39m\u001b[38;5;132;01m{\u001b[39;00mprovider_message\u001b[38;5;132;01m}\u001b[39;00m\u001b[38;5;124m'\u001b[39m)\n\u001b[1;32m     43\u001b[0m evaluators \u001b[38;5;241m=\u001b[39m []\n\u001b[1;32m     44\u001b[0m qrels_teed \u001b[38;5;241m=\u001b[39m QrelsConverter(qrels)\u001b[38;5;241m.\u001b[39mtee(\u001b[38;5;28mlen\u001b[39m(provider_measure_pairs))\n",
      "\u001b[0;31mValueError\u001b[0m: Unsupported measures {nDCG@10}. The following providers would support this measure:\n - pytrec_eval (pip install --upgrade pytrec-eval-terrier)\n - ranx (pip install ir-measures[ranx])"
     ]
    }
   ],
   "source": [
    "# add your ir_dataset dataset string id below, e.g., \"beir/quora/test\"\n",
    "ir_dataset_string = \"beir/quora/test\"\n",
    "\n",
    "metric_name = \"nDCG@10\" # on BEIR/quora\n",
    "ir_measure = ir_measures.parse_measure(metric_name)\n",
    "ir_results = [ir_measures.ScoredDoc(query_id, doc_id, score) for r in results for (query_id, score, doc_id) in r]\n",
    "\n",
    "qrels = ir_datasets.load(ir_dataset_string).qrels\n",
    "ir_measures.calc_aggregate([ir_measure], qrels, ir_results)"
   ]
  },
  {
   "cell_type": "code",
   "execution_count": 22,
   "id": "26a5a805-ab65-4e83-b518-dca90f678eb9",
   "metadata": {},
   "outputs": [
    {
     "name": "stdout",
     "output_type": "stream",
     "text": [
      "Requirement already satisfied: ranx in /home/cosimorulli/miniconda3/lib/python3.12/site-packages (0.3.20)\n",
      "Requirement already satisfied: numpy in /home/cosimorulli/miniconda3/lib/python3.12/site-packages (from ranx) (2.2.4)\n",
      "Requirement already satisfied: numba>=0.54.1 in /home/cosimorulli/miniconda3/lib/python3.12/site-packages (from ranx) (0.61.0)\n",
      "Requirement already satisfied: pandas in /home/cosimorulli/miniconda3/lib/python3.12/site-packages (from ranx) (2.2.3)\n",
      "Requirement already satisfied: tabulate in /home/cosimorulli/miniconda3/lib/python3.12/site-packages (from ranx) (0.9.0)\n",
      "Requirement already satisfied: tqdm in /home/cosimorulli/miniconda3/lib/python3.12/site-packages (from ranx) (4.66.5)\n",
      "Requirement already satisfied: scipy>=1.8.0 in /home/cosimorulli/miniconda3/lib/python3.12/site-packages (from ranx) (1.15.2)\n",
      "Requirement already satisfied: ir-datasets in /home/cosimorulli/miniconda3/lib/python3.12/site-packages (from ranx) (0.5.9)\n",
      "Requirement already satisfied: rich in /home/cosimorulli/miniconda3/lib/python3.12/site-packages (from ranx) (13.9.4)\n",
      "Requirement already satisfied: orjson in /home/cosimorulli/miniconda3/lib/python3.12/site-packages (from ranx) (3.10.15)\n",
      "Requirement already satisfied: lz4 in /home/cosimorulli/miniconda3/lib/python3.12/site-packages (from ranx) (4.4.3)\n",
      "Requirement already satisfied: cbor2 in /home/cosimorulli/miniconda3/lib/python3.12/site-packages (from ranx) (5.6.5)\n",
      "Requirement already satisfied: seaborn in /home/cosimorulli/miniconda3/lib/python3.12/site-packages (from ranx) (0.13.2)\n",
      "Requirement already satisfied: fastparquet in /home/cosimorulli/miniconda3/lib/python3.12/site-packages (from ranx) (2024.11.0)\n",
      "Requirement already satisfied: llvmlite<0.45,>=0.44.0dev0 in /home/cosimorulli/miniconda3/lib/python3.12/site-packages (from numba>=0.54.1->ranx) (0.44.0)\n",
      "Collecting numpy (from ranx)\n",
      "  Downloading numpy-2.1.3-cp312-cp312-manylinux_2_17_x86_64.manylinux2014_x86_64.whl.metadata (62 kB)\n",
      "Requirement already satisfied: cramjam>=2.3 in /home/cosimorulli/miniconda3/lib/python3.12/site-packages (from fastparquet->ranx) (2.9.1)\n",
      "Requirement already satisfied: fsspec in /home/cosimorulli/miniconda3/lib/python3.12/site-packages (from fastparquet->ranx) (2025.2.0)\n",
      "Requirement already satisfied: packaging in /home/cosimorulli/miniconda3/lib/python3.12/site-packages (from fastparquet->ranx) (24.1)\n",
      "Requirement already satisfied: python-dateutil>=2.8.2 in /home/cosimorulli/miniconda3/lib/python3.12/site-packages (from pandas->ranx) (2.9.0.post0)\n",
      "Requirement already satisfied: pytz>=2020.1 in /home/cosimorulli/miniconda3/lib/python3.12/site-packages (from pandas->ranx) (2024.2)\n",
      "Requirement already satisfied: tzdata>=2022.7 in /home/cosimorulli/miniconda3/lib/python3.12/site-packages (from pandas->ranx) (2024.2)\n",
      "Requirement already satisfied: beautifulsoup4>=4.4.1 in /home/cosimorulli/miniconda3/lib/python3.12/site-packages (from ir-datasets->ranx) (4.13.3)\n",
      "Requirement already satisfied: inscriptis>=2.2.0 in /home/cosimorulli/miniconda3/lib/python3.12/site-packages (from ir-datasets->ranx) (2.5.3)\n",
      "Requirement already satisfied: lxml>=4.5.2 in /home/cosimorulli/miniconda3/lib/python3.12/site-packages (from ir-datasets->ranx) (5.3.1)\n",
      "Requirement already satisfied: pyyaml>=5.3.1 in /home/cosimorulli/miniconda3/lib/python3.12/site-packages (from ir-datasets->ranx) (6.0.2)\n",
      "Requirement already satisfied: requests>=2.22.0 in /home/cosimorulli/miniconda3/lib/python3.12/site-packages (from ir-datasets->ranx) (2.32.3)\n",
      "Requirement already satisfied: trec-car-tools>=2.5.4 in /home/cosimorulli/miniconda3/lib/python3.12/site-packages (from ir-datasets->ranx) (2.6)\n",
      "Requirement already satisfied: warc3-wet>=0.2.3 in /home/cosimorulli/miniconda3/lib/python3.12/site-packages (from ir-datasets->ranx) (0.2.5)\n",
      "Requirement already satisfied: warc3-wet-clueweb09>=0.2.5 in /home/cosimorulli/miniconda3/lib/python3.12/site-packages (from ir-datasets->ranx) (0.2.5)\n",
      "Requirement already satisfied: zlib-state>=0.1.3 in /home/cosimorulli/miniconda3/lib/python3.12/site-packages (from ir-datasets->ranx) (0.1.9)\n",
      "Requirement already satisfied: ijson>=3.1.3 in /home/cosimorulli/miniconda3/lib/python3.12/site-packages (from ir-datasets->ranx) (3.3.0)\n",
      "Requirement already satisfied: unlzw3>=0.2.1 in /home/cosimorulli/miniconda3/lib/python3.12/site-packages (from ir-datasets->ranx) (0.2.3)\n",
      "Requirement already satisfied: markdown-it-py>=2.2.0 in /home/cosimorulli/miniconda3/lib/python3.12/site-packages (from rich->ranx) (3.0.0)\n",
      "Requirement already satisfied: pygments<3.0.0,>=2.13.0 in /home/cosimorulli/miniconda3/lib/python3.12/site-packages (from rich->ranx) (2.19.1)\n",
      "Requirement already satisfied: matplotlib!=3.6.1,>=3.4 in /home/cosimorulli/miniconda3/lib/python3.12/site-packages (from seaborn->ranx) (3.10.0)\n",
      "Requirement already satisfied: soupsieve>1.2 in /home/cosimorulli/miniconda3/lib/python3.12/site-packages (from beautifulsoup4>=4.4.1->ir-datasets->ranx) (2.6)\n",
      "Requirement already satisfied: typing-extensions>=4.0.0 in /home/cosimorulli/miniconda3/lib/python3.12/site-packages (from beautifulsoup4>=4.4.1->ir-datasets->ranx) (4.12.2)\n",
      "Requirement already satisfied: mdurl~=0.1 in /home/cosimorulli/miniconda3/lib/python3.12/site-packages (from markdown-it-py>=2.2.0->rich->ranx) (0.1.2)\n",
      "Requirement already satisfied: contourpy>=1.0.1 in /home/cosimorulli/miniconda3/lib/python3.12/site-packages (from matplotlib!=3.6.1,>=3.4->seaborn->ranx) (1.3.1)\n",
      "Requirement already satisfied: cycler>=0.10 in /home/cosimorulli/miniconda3/lib/python3.12/site-packages (from matplotlib!=3.6.1,>=3.4->seaborn->ranx) (0.12.1)\n",
      "Requirement already satisfied: fonttools>=4.22.0 in /home/cosimorulli/miniconda3/lib/python3.12/site-packages (from matplotlib!=3.6.1,>=3.4->seaborn->ranx) (4.56.0)\n",
      "Requirement already satisfied: kiwisolver>=1.3.1 in /home/cosimorulli/miniconda3/lib/python3.12/site-packages (from matplotlib!=3.6.1,>=3.4->seaborn->ranx) (1.4.8)\n",
      "Requirement already satisfied: pillow>=8 in /home/cosimorulli/miniconda3/lib/python3.12/site-packages (from matplotlib!=3.6.1,>=3.4->seaborn->ranx) (11.1.0)\n",
      "Requirement already satisfied: pyparsing>=2.3.1 in /home/cosimorulli/miniconda3/lib/python3.12/site-packages (from matplotlib!=3.6.1,>=3.4->seaborn->ranx) (3.2.1)\n",
      "Requirement already satisfied: six>=1.5 in /home/cosimorulli/miniconda3/lib/python3.12/site-packages (from python-dateutil>=2.8.2->pandas->ranx) (1.16.0)\n",
      "Requirement already satisfied: charset-normalizer<4,>=2 in /home/cosimorulli/miniconda3/lib/python3.12/site-packages (from requests>=2.22.0->ir-datasets->ranx) (3.3.2)\n",
      "Requirement already satisfied: idna<4,>=2.5 in /home/cosimorulli/miniconda3/lib/python3.12/site-packages (from requests>=2.22.0->ir-datasets->ranx) (3.7)\n",
      "Requirement already satisfied: urllib3<3,>=1.21.1 in /home/cosimorulli/miniconda3/lib/python3.12/site-packages (from requests>=2.22.0->ir-datasets->ranx) (2.2.3)\n",
      "Requirement already satisfied: certifi>=2017.4.17 in /home/cosimorulli/miniconda3/lib/python3.12/site-packages (from requests>=2.22.0->ir-datasets->ranx) (2024.8.30)\n",
      "Requirement already satisfied: cbor>=1.0.0 in /home/cosimorulli/miniconda3/lib/python3.12/site-packages (from trec-car-tools>=2.5.4->ir-datasets->ranx) (1.0.0)\n",
      "Downloading numpy-2.1.3-cp312-cp312-manylinux_2_17_x86_64.manylinux2014_x86_64.whl (16.0 MB)\n",
      "\u001b[2K   \u001b[90m━━━━━━━━━━━━━━━━━━━━━━━━━━━━━━━━━━━━━━━━\u001b[0m \u001b[32m16.0/16.0 MB\u001b[0m \u001b[31m37.2 MB/s\u001b[0m eta \u001b[36m0:00:00\u001b[0ma \u001b[36m0:00:01\u001b[0m\n",
      "Installing collected packages: numpy\n",
      "  Attempting uninstall: numpy\n",
      "    Found existing installation: numpy 2.2.4\n",
      "    Uninstalling numpy-2.2.4:\n",
      "      Successfully uninstalled numpy-2.2.4\n",
      "Successfully installed numpy-2.1.3\n"
     ]
    }
   ],
   "source": [
    "!pip install ranx"
   ]
  },
  {
   "cell_type": "code",
   "execution_count": null,
   "id": "10b2b29b-58ed-468d-9d22-222ecc4bf544",
   "metadata": {},
   "outputs": [],
   "source": []
  }
 ],
 "metadata": {
  "kernelspec": {
   "display_name": "Python 3 (ipykernel)",
   "language": "python",
   "name": "python3"
  },
  "language_info": {
   "codemirror_mode": {
    "name": "ipython",
    "version": 3
   },
   "file_extension": ".py",
   "mimetype": "text/x-python",
   "name": "python",
   "nbconvert_exporter": "python",
   "pygments_lexer": "ipython3",
   "version": "3.12.7"
  }
 },
 "nbformat": 4,
 "nbformat_minor": 5
}
