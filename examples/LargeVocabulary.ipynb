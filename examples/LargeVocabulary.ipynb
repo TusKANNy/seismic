{
 "cells": [
  {
   "cell_type": "code",
   "execution_count": null,
   "id": "96954766-d9ee-45f0-b018-9406efbbd493",
   "metadata": {},
   "outputs": [],
   "source": [
    "import json\n",
    "import numpy as np\n",
    "import seismic\n",
    "from seismic import SeismicDatasetLV, SeismicIndexLV\n",
    "from tqdm import tqdm"
   ]
  },
  {
   "cell_type": "code",
   "execution_count": null,
   "id": "d3a4d24f-8870-46ee-b3f0-d1ea4b887c48",
   "metadata": {},
   "outputs": [],
   "source": [
    "\n",
    "document_path = \"\"\n",
    "\n",
    "\n",
    "\n",
    "dataset = SeismicDatasetLV()\n",
    "string_type  = seismic.get_seismic_string()\n",
    "\n",
    "with open(document_path, \"r\") as file:\n",
    "    for line in tqdm(file):\n",
    "        line_data = json.loads(line.strip())\n",
    "        vs = np.array([v for v in line_data[\"vector\"].values()], dtype=np.float32)\n",
    "        ks = np.array([k for k in line_data[\"vector\"].keys()], dtype=string_type)\n",
    "        dataset.add_document(str(line_data[\"id\"]), ks, vs)\n",
    "        "
   ]
  },
  {
   "cell_type": "code",
   "execution_count": null,
   "id": "1b52c8ad-d7b8-4f5a-b19b-35915a8ff4e4",
   "metadata": {},
   "outputs": [],
   "source": [
    "index = SeismicIndexLV.build_from_dataset(dataset)"
   ]
  },
  {
   "cell_type": "code",
   "execution_count": null,
   "id": "6e667e28-877b-496c-848a-6f41c1bf3bf0",
   "metadata": {},
   "outputs": [],
   "source": [
    "import numpy as np\n",
    "import json\n",
    "\n",
    "file_path = \"\"\n",
    "\n",
    "queries = []\n",
    "with open(file_path, 'r') as f:\n",
    "    for line in f:\n",
    "        queries.append(json.loads(line))\n",
    "\n",
    "MAX_TOKEN_LEN = 30\n",
    "string_type  = f'U{MAX_TOKEN_LEN}'\n",
    "\n",
    "queries_ids = np.array([q['id'] for q in queries], dtype=string_type)\n",
    "\n",
    "query_components = []\n",
    "query_values = []\n",
    "\n",
    "for query in queries[:1000]:\n",
    "    vector = query['vector']\n",
    "    query_components.append(np.array(list(vector.keys()), dtype=string_type))\n",
    "    query_values.append(np.array(list(vector.values()), dtype=np.float32))"
   ]
  },
  {
   "cell_type": "code",
   "execution_count": null,
   "id": "e50e7532-dc9b-42c7-aa8d-7340b3617efc",
   "metadata": {},
   "outputs": [],
   "source": [
    "results = index.batch_search(\n",
    "    queries_ids=queries_ids,\n",
    "    query_components=query_components,\n",
    "    query_values=query_values,\n",
    "    k=10,\n",
    "    query_cut=20,\n",
    "    heap_factor=0.7,\n",
    "    n_knn=0,\n",
    "    sorted=True, #specified even if default value\n",
    "    num_threads=1,\n",
    ")"
   ]
  },
  {
   "cell_type": "code",
   "execution_count": null,
   "id": "04f37d60-72cd-46eb-b3a7-1f5c18676e00",
   "metadata": {},
   "outputs": [],
   "source": [
    "import ir_measures\n",
    "import ir_datasets\n",
    "\n",
    "# add your ir_dataset dataset string id below, e.g., \"beir/quora/test\"\n",
    "ir_dataset_string = \"beir/nfcorpus/test\"\n",
    "\n",
    "ir_results = [ir_measures.ScoredDoc(query_id, doc_id, score) for r in results for (query_id, score, doc_id) in r]\n",
    "qrels = ir_datasets.load(ir_dataset_string).qrels"
   ]
  },
  {
   "cell_type": "code",
   "execution_count": null,
   "id": "1323e296-7706-4940-99e5-70a33c65ddf7",
   "metadata": {},
   "outputs": [],
   "source": [
    "from ir_measures import *\n",
    "metric_name = \"nDCG@10\" # on BEIR/quora\n",
    "ir_measure = ir_measures.parse_measure(metric_name)\n",
    "\n",
    "qrels = ir_datasets.load(ir_dataset_string).qrels\n",
    "ir_measures.calc_aggregate([ir_measure], qrels, ir_results)"
   ]
  },
  {
   "cell_type": "code",
   "execution_count": null,
   "id": "b623f4ac-38ef-4255-bfe7-0f89188d2273",
   "metadata": {},
   "outputs": [],
   "source": []
  }
 ],
 "metadata": {
  "kernelspec": {
   "display_name": "Python 3 (ipykernel)",
   "language": "python",
   "name": "python3"
  },
  "language_info": {
   "codemirror_mode": {
    "name": "ipython",
    "version": 3
   },
   "file_extension": ".py",
   "mimetype": "text/x-python",
   "name": "python",
   "nbconvert_exporter": "python",
   "pygments_lexer": "ipython3",
   "version": "3.12.7"
  }
 },
 "nbformat": 4,
 "nbformat_minor": 5
}
