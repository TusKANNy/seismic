{
 "cells": [
  {
   "cell_type": "code",
   "execution_count": 1,
   "id": "968875b2-452c-47ee-9870-0758b457f169",
   "metadata": {},
   "outputs": [],
   "source": [
    "import json\n",
    "import numpy as np\n",
    "from seismic import SeismicIndexRaw\n",
    "from tqdm.notebook import tqdm\n",
    "import pandas as pd"
   ]
  },
  {
   "cell_type": "code",
   "execution_count": 2,
   "id": "32474f09-e353-4486-a555-fbfdfbb1a2ba",
   "metadata": {},
   "outputs": [
    {
     "name": "stdout",
     "output_type": "stream",
     "text": [
      "\n",
      "Building the index...\n",
      "Configuration { pruning: GlobalThreshold { n_postings: 3500, max_fraction: 1.5 }, blocking: RandomKmeans { centroid_fraction: 0.1, min_cluster_size: 2, clustering_algorithm: RandomKmeansInvertedIndexApprox { doc_cut: 15 } }, summarization: EnergyPreserving { summary_energy: 0.4 }, knn: KnnConfiguration { nknn: 0, knn_path: None }, batched_indexing: None }\n",
      "Distributing and pruning postings: 0 secs\n",
      "Number of posting lists: 26595\n",
      "Building summaries: 2 secs\n"
     ]
    }
   ],
   "source": [
    "doc_path = \"/data1/knn_datasets/sparse_datasets/beir/beir_spladev3_fromCarlos_CROSSCHECK-MRR-BEFORE-USE/beir/quora/data/documents.bin\"\n",
    "\n",
    "index = SeismicIndexRaw.build(doc_path, n_postings=3500)"
   ]
  },
  {
   "cell_type": "code",
   "execution_count": 3,
   "id": "85ab0c83-355e-4f78-a4aa-bcf6e137226e",
   "metadata": {},
   "outputs": [],
   "source": [
    "query_path = \"/data1/knn_datasets/sparse_datasets/beir/beir_spladev3_fromCarlos_CROSSCHECK-MRR-BEFORE-USE/beir/quora/data/queries.bin\"\n",
    "groundtruth_path = \"/data1/knn_datasets/sparse_datasets/beir/beir_spladev3_fromCarlos_CROSSCHECK-MRR-BEFORE-USE/beir/quora/data/groundtruth.tsv\""
   ]
  },
  {
   "cell_type": "code",
   "execution_count": 4,
   "id": "0421e69d-188a-4abd-af14-1187d2fe386d",
   "metadata": {},
   "outputs": [],
   "source": [
    "def compute_accuracy(gt_pd, res_pd):\n",
    "    gt_pd_groups = gt_pd.groupby('query_id')['doc_id'].apply(set)\n",
    "    res_pd_groups = res_pd.groupby('query_id')['doc_id'].apply(set)\n",
    "\n",
    "    # Compute the intersection size for each query_id in both dataframes\n",
    "    intersections_size = {\n",
    "        query_id: len(gt_pd_groups[query_id] & res_pd_groups[query_id]) if query_id in res_pd_groups else 0\n",
    "        for query_id in gt_pd_groups.index\n",
    "    }\n",
    "\n",
    "    # Computes total number of results in the groundtruth\n",
    "    total_results = len(gt_pd)\n",
    "    total_intersections = sum(intersections_size.values())\n",
    "    return total_intersections/total_results"
   ]
  },
  {
   "cell_type": "code",
   "execution_count": 5,
   "id": "694bd983-f9b1-4eef-b364-87e6aa878339",
   "metadata": {},
   "outputs": [],
   "source": [
    "import struct\n",
    "def read_sparse_vectors_from_binary_file(filename):\n",
    "    term_id = []\n",
    "    with open(filename, \"rb\") as f:\n",
    "        # Read the number of term vectors (sparse vectors)\n",
    "        num_vectors = int.from_bytes(f.read(4), byteorder='little', signed=False)\n",
    "        for _ in tqdm(range(num_vectors)):\n",
    "            # Read the length of the integer sequence\n",
    "            seq_len = int.from_bytes(f.read(4), byteorder='little', signed=False)\n",
    "            \n",
    "            # Read the integer sequence (indices)\n",
    "            int_seq = np.array([int.from_bytes(f.read(4), byteorder='little', signed=False) for _ in range(seq_len)], dtype=np.int32)\n",
    "            \n",
    "            # Read the float sequence (values)\n",
    "            float_seq = np.array([struct.unpack('f', f.read(4))[0] for _ in range(seq_len)], dtype=np.float32)\n",
    "            \n",
    "            # Append the parsed term (as two lists: indices and values) to term_id\n",
    "            term_id.append((int_seq, float_seq))\n",
    "    \n",
    "    return term_id"
   ]
  },
  {
   "cell_type": "code",
   "execution_count": 6,
   "id": "4bbb1983-724e-40f6-ab35-065936871486",
   "metadata": {},
   "outputs": [
    {
     "data": {
      "application/vnd.jupyter.widget-view+json": {
       "model_id": "0bd31a0b144e442f9694a986c090a698",
       "version_major": 2,
       "version_minor": 0
      },
      "text/plain": [
       "  0%|          | 0/10000 [00:00<?, ?it/s]"
      ]
     },
     "metadata": {},
     "output_type": "display_data"
    }
   ],
   "source": [
    "queries = read_sparse_vectors_from_binary_file(query_path)"
   ]
  },
  {
   "cell_type": "code",
   "execution_count": 7,
   "id": "4dd464e4-df6d-4470-b1c9-1742d77fcd6f",
   "metadata": {},
   "outputs": [
    {
     "data": {
      "application/vnd.jupyter.widget-view+json": {
       "model_id": "93fb5949548b441fb6bfd603eda25511",
       "version_major": 2,
       "version_minor": 0
      },
      "text/plain": [
       "  0%|          | 0/522931 [00:00<?, ?it/s]"
      ]
     },
     "metadata": {},
     "output_type": "display_data"
    }
   ],
   "source": [
    "docs = read_sparse_vectors_from_binary_file(doc_path)"
   ]
  },
  {
   "cell_type": "code",
   "execution_count": 8,
   "id": "d684e2af-99d1-4785-9ab7-6201ce85c073",
   "metadata": {},
   "outputs": [],
   "source": [
    "groundtruth = pd.read_csv(groundtruth_path, sep=\"\\t\", names=[\"query_id\", \"doc_id\", \"rank\", \"score\"])\n"
   ]
  },
  {
   "cell_type": "code",
   "execution_count": 10,
   "id": "e7577782-f441-433a-93bb-a922d5ff2d53",
   "metadata": {},
   "outputs": [
    {
     "data": {
      "text/plain": [
       "(array([ 3268,  6451,  6454,  6781,  6782,  6783,  6947,  7529,  7543,\n",
       "         7560, 10470, 11032, 15182, 15230, 16160, 17719, 18538, 19268,\n",
       "        19272, 20386, 20390, 20409, 20411, 22405, 24536, 26268, 26272],\n",
       "       dtype=int32),\n",
       " array([1.5485512 , 0.8366989 , 0.29458022, 1.3666275 , 1.1879934 ,\n",
       "        0.5701008 , 0.2724157 , 0.6082087 , 0.20773558, 0.64504516,\n",
       "        0.6225774 , 0.19207929, 0.25022486, 0.05737934, 0.20898588,\n",
       "        0.0873253 , 0.5944445 , 0.06783415, 0.32910192, 1.8867625 ,\n",
       "        1.8483115 , 2.277586  , 0.73086494, 1.3352437 , 0.40709767,\n",
       "        0.7613972 , 0.49380526], dtype=float32))"
      ]
     },
     "execution_count": 10,
     "metadata": {},
     "output_type": "execute_result"
    }
   ],
   "source": [
    "query = queries[0]\n",
    "query"
   ]
  },
  {
   "cell_type": "code",
   "execution_count": 16,
   "id": "6cf4c43f-a780-4068-8303-00ce3eb067c0",
   "metadata": {},
   "outputs": [],
   "source": [
    "for component, value in sorted(zip(*query), key=lambda x:x[1], reverse=True):\n",
    "    component_id = component.item()\n",
    "    current_posting = index.get_doc_ids_in_postings(component_id)\n",
    "    break"
   ]
  },
  {
   "cell_type": "code",
   "execution_count": 19,
   "id": "06eea082-fd63-4392-9c64-f743ca40b568",
   "metadata": {},
   "outputs": [],
   "source": [
    "def sparse_dot_product(vec1, vec2):\n",
    "\n",
    "    components1, values1 = vec1\n",
    "    components2, values2 = vec2\n",
    "    \n",
    "\n",
    "    common_components = np.intersect1d(components1, components2)\n",
    "    \n",
    "    if len(common_components) == 0:\n",
    "        return 0.0\n",
    "    \n",
    "\n",
    "    idx1 = np.searchsorted(components1, common_components)\n",
    "    idx2 = np.searchsorted(components2, common_components)\n",
    "    \n",
    "\n",
    "    return np.sum(values1[idx1] * values2[idx2])"
   ]
  },
  {
   "cell_type": "code",
   "execution_count": 20,
   "id": "92156900-2294-4c16-8777-ae34769828d4",
   "metadata": {},
   "outputs": [],
   "source": [
    "def sparse_dot_product_dict(vec1, vec2):\n",
    "    \"\"\"\n",
    "    Alternative implementation using dictionary for potentially better performance\n",
    "    with very sparse vectors or unsorted component arrays.\n",
    "    \"\"\"\n",
    "    components1, values1 = vec1\n",
    "    components2, values2 = vec2\n",
    "    \n",
    "    # Create dictionary for first vector\n",
    "    vec1_dict = dict(zip(components1, values1))\n",
    "    \n",
    "    # Compute dot product by iterating through second vector\n",
    "    dot_product = 0.0\n",
    "    for comp, val in zip(components2, values2):\n",
    "        if comp in vec1_dict:\n",
    "            dot_product += vec1_dict[comp] * val\n",
    "    \n",
    "    return dot_product"
   ]
  },
  {
   "cell_type": "code",
   "execution_count": 69,
   "id": "ad8a15ce-80d4-4262-bd93-30b7bd9864fd",
   "metadata": {},
   "outputs": [
    {
     "data": {
      "application/vnd.jupyter.widget-view+json": {
       "model_id": "e52de86a24ae4091bf8f5b940ae42d42",
       "version_major": 2,
       "version_minor": 0
      },
      "text/plain": [
       "Computing distances:   0%|          | 0/5250 [00:00<?, ?it/s]"
      ]
     },
     "metadata": {},
     "output_type": "display_data"
    }
   ],
   "source": [
    "from collections import defaultdict\n",
    "\n",
    "distances = []\n",
    "\n",
    "n_docs = len(current_posting)\n",
    "doc_ids = list(current_posting)\n",
    "\n",
    "n_neighbors = 10\n",
    "\n",
    "neighbors = defaultdict(list)\n",
    "\n",
    "for i in tqdm(range(n_docs), desc=\"Computing distances\"):\n",
    "    current_distances = []\n",
    "    for j in range(i + 1, n_docs):  # j starts from i+1 to avoid duplicates\n",
    "        doc_id1 = doc_ids[i]\n",
    "        doc_id2 = doc_ids[j]\n",
    "        distance = sparse_dot_product_dict(docs[doc_id1], docs[doc_id2])\n",
    "        current_distances.append(distance.item())\n",
    "    neighbors_pos = np.argsort(current_distances)[::-1][:n_neighbors]\n",
    "    neighbors_doc_ids = [current_posting[idx] for idx in neighbors_pos]\n",
    "    neighbors[current_posting[i]] = neighbors_doc_ids\n",
    "    "
   ]
  },
  {
   "cell_type": "code",
   "execution_count": 75,
   "id": "30606628-2886-4e56-9d9f-6faec44a40e2",
   "metadata": {},
   "outputs": [
    {
     "data": {
      "text/plain": [
       "(array([ 3268,  5783,  5790,  5870,  5955,  7382,  8269,  9422,  9651,\n",
       "         9655, 11577, 12370, 13133, 15098, 15585, 16425, 16426, 17301,\n",
       "        18215, 18547, 18585, 18848, 19006, 20409, 20898, 21077, 21461,\n",
       "        22275, 22281, 24478, 25235, 25693, 25809, 25812, 25939, 26268,\n",
       "        26272], dtype=int32),\n",
       " array([1.3567029 , 1.2116898 , 0.4431409 , 0.40483412, 0.11302987,\n",
       "        1.3565516 , 0.21892956, 0.25243187, 1.0681663 , 0.07211731,\n",
       "        0.20025276, 2.6297421 , 0.24361883, 0.01153325, 0.5079931 ,\n",
       "        1.7307117 , 0.7348002 , 0.17940268, 0.4347429 , 0.1419206 ,\n",
       "        0.00742344, 0.11844329, 0.19764292, 2.1712842 , 0.03636141,\n",
       "        0.4001993 , 0.02758142, 0.10035896, 0.27606964, 0.45732707,\n",
       "        0.24872115, 0.49463516, 0.39716342, 0.05756392, 0.63710576,\n",
       "        0.55043817, 0.67720306], dtype=float32))"
      ]
     },
     "execution_count": 75,
     "metadata": {},
     "output_type": "execute_result"
    }
   ],
   "source": [
    "docs[current_posting[0]]"
   ]
  },
  {
   "cell_type": "code",
   "execution_count": 81,
   "id": "111d49f1-abc9-4b0a-9b16-d95b8ede0cf7",
   "metadata": {},
   "outputs": [
    {
     "data": {
      "text/plain": [
       "(array([ 3268,  5783,  5790,  5870,  5955,  7382,  8269,  9422,  9651,\n",
       "         9655, 11577, 12370, 13133, 15098, 15585, 16425, 16426, 17301,\n",
       "        18215, 18547, 18585, 18848, 19006, 20409, 20898, 21077, 21461,\n",
       "        22275, 22281, 24478, 25235, 25693, 25809, 25812, 25939, 26268,\n",
       "        26272], dtype=int32),\n",
       " array([1.3567029 , 1.2116898 , 0.4431409 , 0.40483412, 0.11302987,\n",
       "        1.3565516 , 0.21892956, 0.25243187, 1.0681663 , 0.07211731,\n",
       "        0.20025276, 2.6297421 , 0.24361883, 0.01153325, 0.5079931 ,\n",
       "        1.7307117 , 0.7348002 , 0.17940268, 0.4347429 , 0.1419206 ,\n",
       "        0.00742344, 0.11844329, 0.19764292, 2.1712842 , 0.03636141,\n",
       "        0.4001993 , 0.02758142, 0.10035896, 0.27606964, 0.45732707,\n",
       "        0.24872115, 0.49463516, 0.39716342, 0.05756392, 0.63710576,\n",
       "        0.55043817, 0.67720306], dtype=float32))"
      ]
     },
     "execution_count": 81,
     "metadata": {},
     "output_type": "execute_result"
    }
   ],
   "source": [
    "docs[current_posting[0]]"
   ]
  },
  {
   "cell_type": "code",
   "execution_count": 86,
   "id": "42df5be5-0537-4f4f-86fd-a3128fd2ff40",
   "metadata": {},
   "outputs": [],
   "source": [
    "sorted_docs = sorted(current_posting, key= lambda x: docs[x][1] [docs[x][0]==component_id], reverse=True)[:10]"
   ]
  },
  {
   "cell_type": "code",
   "execution_count": 129,
   "id": "4e660471-6bf2-414f-92bc-755fea606d2d",
   "metadata": {},
   "outputs": [],
   "source": [
    "\n",
    "n_choices = 20\n",
    "starting_points = np.random.choice(current_posting, n_choices)\n",
    "#starting_points = sorted_docs\n",
    "\n",
    "results = []\n",
    "\n",
    "counter = 0\n",
    "stop_at = 50\n",
    "\n",
    "visited = set()\n",
    "\n",
    "for starting_point in starting_points:\n",
    "\n",
    "    current_node = starting_point\n",
    "    counter = 0\n",
    "    while(counter < stop_at):\n",
    "        current_neighbors = neighbors[current_node]\n",
    "        local_results = []\n",
    "        for neigh in current_neighbors:\n",
    "            if not neigh in visited:\n",
    "                local_results.append((neigh, sparse_dot_product_dict(query, docs[neigh])))\n",
    "                visited.add(neigh)\n",
    "        if len(local_results) == 0:\n",
    "            current_node = np.random.choice(current_posting, 1).item()\n",
    "            continue\n",
    "        results.extend(local_results)\n",
    "        index_to_jump = np.argmax([x[1] for x in local_results])\n",
    "        current_node = current_neighbors[index_to_jump]\n",
    "\n",
    "        counter += len(current_neighbors)"
   ]
  },
  {
   "cell_type": "code",
   "execution_count": 130,
   "id": "c09072d1-5452-4532-8510-abb5016b9d44",
   "metadata": {},
   "outputs": [
    {
     "data": {
      "text/plain": [
       "[(381484, np.float32(21.436327)),\n",
       " (322658, np.float32(20.468542)),\n",
       " (39017, np.float32(20.261549)),\n",
       " (12006, np.float32(20.156263)),\n",
       " (220500, np.float32(20.12595)),\n",
       " (46938, np.float32(20.061787)),\n",
       " (370899, np.float32(19.81274)),\n",
       " (112732, np.float32(19.738323)),\n",
       " (45866, np.float32(19.65855)),\n",
       " (338747, np.float32(19.521))]"
      ]
     },
     "execution_count": 130,
     "metadata": {},
     "output_type": "execute_result"
    }
   ],
   "source": [
    "sorted(results, key=lambda x: x[1], reverse=True)[:10]"
   ]
  },
  {
   "cell_type": "code",
   "execution_count": 126,
   "id": "ef4c7d13-4088-4e3b-a4a8-31c53344db72",
   "metadata": {},
   "outputs": [
    {
     "data": {
      "text/plain": [
       "703"
      ]
     },
     "execution_count": 126,
     "metadata": {},
     "output_type": "execute_result"
    }
   ],
   "source": [
    "len(visited)"
   ]
  },
  {
   "cell_type": "code",
   "execution_count": 95,
   "id": "0610b4d2-d606-4061-b2e2-5ab6de03ae57",
   "metadata": {},
   "outputs": [],
   "source": [
    "exh_results = []\n",
    "for doc_id in current_posting:\n",
    "    exh_results.append((doc_id, sparse_dot_product_dict(query, docs[doc_id])))"
   ]
  },
  {
   "cell_type": "code",
   "execution_count": 96,
   "id": "8188e24f-65ab-4f3d-90ad-708bf752989b",
   "metadata": {},
   "outputs": [
    {
     "data": {
      "text/plain": [
       "[(162780, np.float32(23.165792)),\n",
       " (235727, np.float32(23.12265)),\n",
       " (168781, np.float32(22.835157)),\n",
       " (61789, np.float32(22.481089)),\n",
       " (315859, np.float32(22.479797)),\n",
       " (323649, np.float32(22.194365)),\n",
       " (156921, np.float32(22.173252)),\n",
       " (274984, np.float32(22.1589)),\n",
       " (260910, np.float32(22.11858)),\n",
       " (323648, np.float32(21.927666))]"
      ]
     },
     "execution_count": 96,
     "metadata": {},
     "output_type": "execute_result"
    }
   ],
   "source": [
    "sorted(exh_results, key=lambda x: x[1], reverse=True)[:10]"
   ]
  },
  {
   "cell_type": "code",
   "execution_count": null,
   "id": "d6562533-3522-41cf-bbdc-4a84ee43a2ed",
   "metadata": {},
   "outputs": [],
   "source": []
  }
 ],
 "metadata": {
  "kernelspec": {
   "display_name": "Python 3 (ipykernel)",
   "language": "python",
   "name": "python3"
  },
  "language_info": {
   "codemirror_mode": {
    "name": "ipython",
    "version": 3
   },
   "file_extension": ".py",
   "mimetype": "text/x-python",
   "name": "python",
   "nbconvert_exporter": "python",
   "pygments_lexer": "ipython3",
   "version": "3.12.7"
  }
 },
 "nbformat": 4,
 "nbformat_minor": 5
}
