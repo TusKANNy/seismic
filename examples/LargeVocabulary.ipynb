{
 "cells": [
  {
   "cell_type": "code",
   "execution_count": 1,
   "id": "96954766-d9ee-45f0-b018-9406efbbd493",
   "metadata": {},
   "outputs": [],
   "source": [
    "import json\n",
    "import numpy as np\n",
    "import seismic\n",
    "from seismic import SeismicDatasetLV, SeismicIndexLV\n",
    "from tqdm import tqdm"
   ]
  },
  {
   "cell_type": "code",
   "execution_count": 3,
   "id": "d3a4d24f-8870-46ee-b3f0-d1ea4b887c48",
   "metadata": {},
   "outputs": [
    {
     "name": "stderr",
     "output_type": "stream",
     "text": [
      "171332it [01:34, 1808.33it/s]\n"
     ]
    }
   ],
   "source": [
    "\n",
    "document_path = \"\"\n",
    "\n",
    "\n",
    "\n",
    "dataset = SeismicDatasetLV()\n",
    "string_type  = seismic.get_seismic_string()\n",
    "\n",
    "with open(document_path, \"r\") as file:\n",
    "    for line in tqdm(file):\n",
    "        line_data = json.loads(line.strip())\n",
    "        vs = np.array([v for v in line_data[\"vector\"].values()], dtype=np.float32)\n",
    "        ks = np.array([k for k in line_data[\"vector\"].keys()], dtype=string_type)\n",
    "        dataset.add_document(str(line_data[\"id\"]), ks, vs)\n",
    "        "
   ]
  },
  {
   "cell_type": "code",
   "execution_count": 4,
   "id": "1b52c8ad-d7b8-4f5a-b19b-35915a8ff4e4",
   "metadata": {},
   "outputs": [
    {
     "name": "stdout",
     "output_type": "stream",
     "text": [
      "\n",
      "Building the index...\n",
      "Configuration { pruning: GlobalThreshold { n_postings: 3500, max_fraction: 1.5 }, blocking: RandomKmeans { centroid_fraction: 0.1, min_cluster_size: 2, clustering_algorithm: RandomKmeansInvertedIndexApprox { doc_cut: 15 } }, summarization: EnergyPreserving { summary_energy: 0.4 }, knn: KnnConfiguration { nknn: 0, knn_path: None }, batched_indexing: None }\n",
      "Distributing and pruning postings: 5 secs\n",
      "Number of posting lists: 67756\n",
      "Building summaries: 145 secs\n"
     ]
    }
   ],
   "source": [
    "index = SeismicIndexLV.build_from_dataset(dataset)"
   ]
  },
  {
   "cell_type": "code",
   "execution_count": 6,
   "id": "6e667e28-877b-496c-848a-6f41c1bf3bf0",
   "metadata": {},
   "outputs": [],
   "source": [
    "import numpy as np\n",
    "import json\n",
    "\n",
    "file_path = \"\"\n",
    "\n",
    "queries = []\n",
    "with open(file_path, 'r') as f:\n",
    "    for line in f:\n",
    "        queries.append(json.loads(line))\n",
    "\n",
    "MAX_TOKEN_LEN = 30\n",
    "string_type  = f'U{MAX_TOKEN_LEN}'\n",
    "\n",
    "queries_ids = np.array([q['id'] for q in queries], dtype=string_type)\n",
    "\n",
    "query_components = []\n",
    "query_values = []\n",
    "\n",
    "for query in queries[:1000]:\n",
    "    vector = query['vector']\n",
    "    query_components.append(np.array(list(vector.keys()), dtype=string_type))\n",
    "    query_values.append(np.array(list(vector.values()), dtype=np.float32))"
   ]
  },
  {
   "cell_type": "code",
   "execution_count": 7,
   "id": "e50e7532-dc9b-42c7-aa8d-7340b3617efc",
   "metadata": {},
   "outputs": [],
   "source": [
    "results = index.batch_search(\n",
    "    queries_ids=queries_ids,\n",
    "    query_components=query_components,\n",
    "    query_values=query_values,\n",
    "    k=10,\n",
    "    query_cut=20,\n",
    "    heap_factor=0.7,\n",
    "    n_knn=0,\n",
    "    sorted=True, #specified even if default value\n",
    "    num_threads=1,\n",
    ")"
   ]
  },
  {
   "cell_type": "code",
   "execution_count": null,
   "id": "50040a81-b643-4a29-a667-3a2f5369472f",
   "metadata": {},
   "outputs": [],
   "source": []
  }
 ],
 "metadata": {
  "kernelspec": {
   "display_name": "Python 3 (ipykernel)",
   "language": "python",
   "name": "python3"
  },
  "language_info": {
   "codemirror_mode": {
    "name": "ipython",
    "version": 3
   },
   "file_extension": ".py",
   "mimetype": "text/x-python",
   "name": "python",
   "nbconvert_exporter": "python",
   "pygments_lexer": "ipython3",
   "version": "3.12.7"
  }
 },
 "nbformat": 4,
 "nbformat_minor": 5
}
