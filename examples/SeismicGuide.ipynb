{
 "cells": [
  {
   "cell_type": "markdown",
   "id": "91df75f8-ce74-4778-abe9-a6eebd66730c",
   "metadata": {},
   "source": [
    "# A detailed how-to of Seismic.\n",
    "\n",
    "## This Jupyter notebook is a more detailed documentation of how to use Seismic and all its functionalities.\n",
    "\n",
    "## For questions, feel free to open a GitHub issue."
   ]
  },
  {
   "cell_type": "code",
   "execution_count": null,
   "id": "97bb4212",
   "metadata": {},
   "outputs": [],
   "source": [
    "from seismic import SeismicIndex"
   ]
  },
  {
   "cell_type": "markdown",
   "id": "c912a968",
   "metadata": {},
   "source": [
    "# 1. Indexing"
   ]
  },
  {
   "cell_type": "markdown",
   "id": "ee9a4a91",
   "metadata": {},
   "source": [
    "## 1.1 Building"
   ]
  },
  {
   "cell_type": "markdown",
   "id": "c3696691",
   "metadata": {},
   "source": [
    "### We can build the index either from a jsonl file or a compressed archive tar.gz containing the jsonl file."
   ]
  },
  {
   "cell_type": "code",
   "execution_count": null,
   "id": "2eefe4af",
   "metadata": {},
   "outputs": [],
   "source": [
    "json_input_file = \"\"\n",
    "compressed_input_file = \"\""
   ]
  },
  {
   "cell_type": "markdown",
   "id": "feb5215e",
   "metadata": {},
   "source": [
    "### We can use the default configuration by specifying only the input file or choose each of the parameters."
   ]
  },
  {
   "cell_type": "code",
   "execution_count": null,
   "id": "08e55de8",
   "metadata": {},
   "outputs": [],
   "source": [
    "index = SeismicIndex.build(json_input_file)"
   ]
  },
  {
   "cell_type": "code",
   "execution_count": null,
   "id": "5fb2b50c",
   "metadata": {},
   "outputs": [],
   "source": [
    "index = SeismicIndex.build(\n",
    "    compressed_input_file,\n",
    "    n_postings=3500,\n",
    "    centroid_fraction=0.1,\n",
    "    min_cluster_size=2,\n",
    "    summary_energy=0.4, \n",
    "    batched_indexing=10000000)"
   ]
  },
  {
   "cell_type": "markdown",
   "id": "59d4942e",
   "metadata": {},
   "source": [
    "### By setting the `nknn` parameter we can build the knn graph together with the index."
   ]
  },
  {
   "cell_type": "code",
   "execution_count": null,
   "id": "80f6f899",
   "metadata": {},
   "outputs": [],
   "source": [
    "index = SeismicIndex.build(\n",
    "    json_input_file,\n",
    "    n_postings=3500,\n",
    "    centroid_fraction=0.1,\n",
    "    min_cluster_size=2,\n",
    "    summary_energy=0.4,\n",
    "    nknn=10,\n",
    "    batched_indexing=10000000)"
   ]
  },
  {
   "cell_type": "markdown",
   "id": "45135b50",
   "metadata": {},
   "source": [
    "### While, if we set also the `knn_path` (details on how to do it below), we can add to the index a precomputed knn graph. In this case, the `nknn` parameter allow us to add a subset of the knn graph (with less neighbors)."
   ]
  },
  {
   "cell_type": "code",
   "execution_count": null,
   "id": "8c5305aa",
   "metadata": {},
   "outputs": [],
   "source": [
    "knn_path = \"\"\n",
    "\n",
    "index = SeismicIndex.build(\n",
    "    json_input_file,\n",
    "    n_postings=3500,\n",
    "    centroid_fraction=0.1,\n",
    "    min_cluster_size=2,\n",
    "    summary_energy=0.4,\n",
    "    knn_path=knn_path,\n",
    "    nknn=5,\n",
    "    batched_indexing=10000000)"
   ]
  },
  {
   "cell_type": "markdown",
   "id": "34eecf33",
   "metadata": {},
   "source": [
    "### Once the index is constructed, we can serialize and store it in a file."
   ]
  },
  {
   "cell_type": "code",
   "execution_count": null,
   "id": "06de631d",
   "metadata": {},
   "outputs": [],
   "source": [
    "index_path = \"\"\n",
    "\n",
    "index.save(index_path)"
   ]
  },
  {
   "cell_type": "markdown",
   "id": "7f572d70",
   "metadata": {},
   "source": [
    "## 1.2 Loading"
   ]
  },
  {
   "cell_type": "markdown",
   "id": "a8c20f59",
   "metadata": {},
   "source": [
    "### We may want to load a serialized index to query it."
   ]
  },
  {
   "cell_type": "code",
   "execution_count": null,
   "id": "44532aed",
   "metadata": {},
   "outputs": [],
   "source": [
    "index_path = \"\"\n",
    "\n",
    "index = SeismicIndex.load(index_path)"
   ]
  },
  {
   "cell_type": "code",
   "execution_count": null,
   "id": "00e1c150",
   "metadata": {},
   "outputs": [],
   "source": [
    "print(\"Number of documents: \", index.len)\n",
    "print(\"Avg number of non-zero components: \", index.nnz / index.len)\n",
    "print(\"Dimensionality of the vectors: \", index.dim)\n",
    "\n",
    "index.print_space_usage_byte()"
   ]
  },
  {
   "cell_type": "markdown",
   "id": "f618f314",
   "metadata": {},
   "source": [
    "# 2. kNN Graph\n",
    "\n",
    "### Given an inverted index, we can build a knn graph and attach to it with the build_knn function. It is also possible to serialize the graph and link it to another index with the `load_knn` function."
   ]
  },
  {
   "cell_type": "code",
   "execution_count": null,
   "id": "946322aa",
   "metadata": {},
   "outputs": [],
   "source": [
    "nknn=10\n",
    "index.build_knn(nknn)\n",
    "\n",
    "knn_path = \"\"\n",
    "\n",
    "index.save_knn(knn_path)"
   ]
  },
  {
   "cell_type": "markdown",
   "id": "8a0034c7",
   "metadata": {},
   "source": [
    "### When adding the knn graph we can specify a subset of the neighbours we want for each entry of the index or load the full knn graph"
   ]
  },
  {
   "cell_type": "code",
   "execution_count": null,
   "id": "8f93fb6c",
   "metadata": {},
   "outputs": [],
   "source": [
    "index_path = \"\"\n",
    "knn_path = \"\"\n",
    "\n",
    "#load full knn graph\n",
    "index.load_knn(knn_path)"
   ]
  },
  {
   "cell_type": "code",
   "execution_count": null,
   "id": "f27085b7",
   "metadata": {},
   "outputs": [],
   "source": [
    "nknn = 5\n",
    "\n",
    "#load partial graph\n",
    "index.load_knn(knn_path, nknn)"
   ]
  },
  {
   "cell_type": "markdown",
   "id": "c73a4d8a",
   "metadata": {},
   "source": [
    "# 3. Perform the search"
   ]
  },
  {
   "cell_type": "markdown",
   "id": "93ed4c1a",
   "metadata": {},
   "source": [
    "### Prepare the data to perform the search"
   ]
  },
  {
   "cell_type": "code",
   "execution_count": null,
   "id": "46e2f0d9",
   "metadata": {},
   "outputs": [],
   "source": [
    "import numpy as np\n",
    "import json\n",
    "\n",
    "file_path = \"\"\n",
    "\n",
    "queries = []\n",
    "with open(file_path, 'r') as f:\n",
    "    for line in f:\n",
    "        queries.append(json.loads(line))\n",
    "\n",
    "MAX_TOKEN_LEN = 30\n",
    "string_type  = f'U{MAX_TOKEN_LEN}'\n",
    "\n",
    "queries_ids = np.array([q['id'] for q in queries], dtype=string_type)\n",
    "\n",
    "query_components = []\n",
    "query_values = []\n",
    "\n",
    "for query in queries:\n",
    "    vector = query['vector']\n",
    "    query_components.append(np.array(list(vector.keys()), dtype=string_type))\n",
    "    query_values.append(np.array(list(vector.values()), dtype=np.float32))"
   ]
  },
  {
   "cell_type": "markdown",
   "id": "b8286c10",
   "metadata": {},
   "source": [
    "### We can ran a single search or a parallel batch search"
   ]
  },
  {
   "cell_type": "code",
   "execution_count": null,
   "id": "8f68dc58",
   "metadata": {},
   "outputs": [],
   "source": [
    "results = index.search(\n",
    "    query_id=str(queries_ids[0]),\n",
    "    query_components=query_components[0],\n",
    "    query_values=query_values[0],\n",
    "    k=10,\n",
    "    query_cut=20,\n",
    "    heap_factor=0.7,\n",
    "    n_knn=0,\n",
    "    sorted=True, #specified even if default value\n",
    ")"
   ]
  },
  {
   "cell_type": "code",
   "execution_count": null,
   "id": "5682de5f",
   "metadata": {},
   "outputs": [],
   "source": [
    "results = index.batch_search(\n",
    "    queries_ids=queries_ids,\n",
    "    query_components=query_components,\n",
    "    query_values=query_values,\n",
    "    k=10,\n",
    "    query_cut=20,\n",
    "    heap_factor=0.7,\n",
    "    n_knn=0,\n",
    "    sorted=True, #specified even if default value\n",
    "    num_threads=1,\n",
    ")"
   ]
  },
  {
   "cell_type": "markdown",
   "id": "8c6b6cf4",
   "metadata": {},
   "source": [
    "# 4. Evaluation of results\n",
    "\n"
   ]
  },
  {
   "cell_type": "markdown",
   "id": "4216faaa",
   "metadata": {},
   "source": [
    "### Evaluation of the results with the ir_measure library"
   ]
  },
  {
   "cell_type": "code",
   "execution_count": null,
   "id": "90784514",
   "metadata": {},
   "outputs": [],
   "source": [
    "import ir_measures\n",
    "import ir_datasets\n",
    "\n",
    "# add your ir_dataset dataset string id below, e.g., \"beir/quora/test\"\n",
    "ir_dataset_string = \"\"\n",
    "\n",
    "ir_results = [ir_measures.ScoredDoc(query_id, doc_id, score) for r in results for (query_id, score, doc_id) in r]\n",
    "qrels = ir_datasets.load(ir_dataset_string).qrels"
   ]
  },
  {
   "cell_type": "code",
   "execution_count": null,
   "id": "4c0aa5cd",
   "metadata": {},
   "outputs": [],
   "source": [
    "from ir_measures import *\n",
    "\n",
    "measure_to_compute = \"RR@10\"\n",
    "ir_measures.calc_aggregate([measure_to_compute], qrels, ir_results)"
   ]
  },
  {
   "cell_type": "markdown",
   "id": "a3a67154",
   "metadata": {},
   "source": [
    "# 5. Raw Seismic Index\n"
   ]
  },
  {
   "cell_type": "markdown",
   "id": "d7afb44c",
   "metadata": {},
   "source": [
    "### Raw Seismic Index: input a file in the Seismic internal format, i.e., as the plain Rust index. See how to use the script `scripts/convert_json_to_inner_format.py`"
   ]
  },
  {
   "cell_type": "code",
   "execution_count": null,
   "id": "9d2e63df",
   "metadata": {},
   "outputs": [],
   "source": [
    "from seismic import SeismicIndexRaw"
   ]
  },
  {
   "cell_type": "code",
   "execution_count": null,
   "id": "d2f21e7b",
   "metadata": {},
   "outputs": [],
   "source": [
    "input_path = \"\"\n",
    "\n",
    "index = SeismicIndexRaw.build(input_path)"
   ]
  },
  {
   "cell_type": "code",
   "execution_count": null,
   "id": "5b3d2654",
   "metadata": {},
   "outputs": [],
   "source": [
    "query_path = \"\"\n",
    "\n",
    "results = index.batch_search(\n",
    "    query_path,\n",
    "    k=10,\n",
    "    query_cut=3,\n",
    "    heap_factor=0.9,\n",
    "    n_knn=0,\n",
    "    sorted=True\n",
    ")"
   ]
  }
 ],
 "metadata": {
  "kernelspec": {
   "display_name": "Python 3 (ipykernel)",
   "language": "python",
   "name": "python3"
  },
  "language_info": {
   "codemirror_mode": {
    "name": "ipython",
    "version": 3
   },
   "file_extension": ".py",
   "mimetype": "text/x-python",
   "name": "python",
   "nbconvert_exporter": "python",
   "pygments_lexer": "ipython3",
   "version": "3.11.11"
  }
 },
 "nbformat": 4,
 "nbformat_minor": 5
}
